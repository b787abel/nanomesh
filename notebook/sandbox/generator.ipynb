{
 "cells": [
  {
   "cell_type": "code",
   "execution_count": 1,
   "metadata": {},
   "outputs": [],
   "source": [
    "from nanomesh.generator import Generator\n",
    "import SimpleITK as sitk\n",
    "from nanomesh.utils import show_slice, show_volume, generate_mesh_from_binary_image\n",
    "import numpy as np\n",
    "import math"
   ]
  },
  {
   "cell_type": "code",
   "execution_count": 10,
   "metadata": {},
   "outputs": [],
   "source": [
    "import pygalmesh\n",
    "class Pore3D(pygalmesh.DomainBase):\n",
    "    def __init__(self):\n",
    "        super().__init__()\n",
    "        \n",
    "        self.gen = Generator(680, math.sqrt(2)*680, 0.24*680)\n",
    "\n",
    "        # Possible rotation/transformation of the coordinate system\n",
    "        theta = math.pi * 1/180\n",
    "        c = math.cos(theta)\n",
    "        s = math.sin(theta)\n",
    "        trans = np.array([\n",
    "            [ c, 0, s],\n",
    "            [ 0, 1, 0],\n",
    "            [-s, 0, c]\n",
    "        ])\n",
    "        \n",
    "        self.size = [100]*3\n",
    "        self.res = [10]*3\n",
    "        self.data = self.gen.generate_vect(self.size, self.res, transform=trans, bin_val=[0.,1.])\n",
    "        self.data = self.data[:,:68,:]\n",
    "        \n",
    "        # idx = list(range(25,75))\n",
    "        # semi_idx = list(range(25,100))\n",
    "        # all_idx = list(range(self.size[0]))\n",
    "        # flt = np.zeros((100,100,100))\n",
    "        # flt[np.ix_(idx,idx,all_idx)] = 1.\n",
    "        # flt[np.ix_(idx,all_idx,idx)] = 1.\n",
    "        # flt[np.ix_(all_idx,idx,idx)] = 1.\n",
    "        \n",
    "        # flt[np.ix_(all_idx,range(75,100),all_idx)] = 1.\n",
    "        \n",
    "        \n",
    "        # self.data = flt\n",
    "        \n",
    "        self.x = np.linspace(0,1.,self.data.shape[0])\n",
    "        self.y = np.linspace(0,0.68,self.data.shape[1])\n",
    "        self.z = np.linspace(0,1.,self.data.shape[2])\n",
    "        \n",
    "    def eval(self, x):\n",
    "        ix = np.argmin(np.abs(x[0]-self.x))\n",
    "        iy = np.argmin(np.abs(x[1]-self.y))\n",
    "        iz = np.argmin(np.abs(x[2]-self.z))\n",
    "        if self.data[ix,iy,iz] == 1:\n",
    "            out = -1.\n",
    "        else:\n",
    "            out = 1.\n",
    "        return out\n",
    "    "
   ]
  },
  {
   "cell_type": "code",
   "execution_count": 11,
   "metadata": {},
   "outputs": [
    {
     "output_type": "display_data",
     "data": {
      "text/plain": "interactive(children=(IntSlider(value=49, description='z', max=99), Output()), _dom_classes=('widget-interact'…",
      "application/vnd.jupyter.widget-view+json": {
       "version_major": 2,
       "version_minor": 0,
       "model_id": "11e9c3dee8e54b008a0e661de705913a"
      }
     },
     "metadata": {}
    }
   ],
   "source": [
    "pore = Pore3D()\n",
    "im = sitk.GetImageFromArray(pore.data.astype('uint8'))\n",
    "show_slice(im, dim='z',scale=2)"
   ]
  },
  {
   "cell_type": "code",
   "execution_count": 12,
   "metadata": {},
   "outputs": [
    {
     "output_type": "display_data",
     "data": {
      "text/plain": "Viewer(geometries=[{'vtkClass': 'vtkPolyData', 'points': {'vtkClass': 'vtkPoints', 'name': '_points', 'numberO…",
      "application/vnd.jupyter.widget-view+json": {
       "version_major": 2,
       "version_minor": 0,
       "model_id": "98270db8c46e46e09878ba9de23909d9"
      }
     },
     "metadata": {}
    },
    {
     "output_type": "display_data",
     "data": {
      "text/plain": "Viewer(geometries=[{'vtkClass': 'vtkPolyData', 'points': {'vtkClass': 'vtkPoints', 'name': '_points', 'numberO…",
      "application/vnd.jupyter.widget-view+json": {
       "version_major": 2,
       "version_minor": 0,
       "model_id": "98270db8c46e46e09878ba9de23909d9"
      }
     },
     "metadata": {}
    }
   ],
   "source": [
    "import pygalmesh\n",
    "mesh = generate_mesh_from_binary_image(im, h=[2.5]*3, perturb=False, \n",
    "                                       lloyd=False,\n",
    "                                       odt=False,\n",
    "                                       max_radius_surface_delaunay_ball=0.0,\n",
    "                                       max_cell_circumradius=0.,\n",
    "                                       max_facet_distance=1.,\n",
    "                                       exude=True,\n",
    "                                       min_facet_angle=0.,\n",
    "                                       max_edge_size_at_feature_edges=1.5,\n",
    "                                       max_circumradius_edge_ratio=0.,\n",
    "                                       bounding_box=True)\n",
    "import pyvista as pv\n",
    "pv.plot_itk(mesh)"
   ]
  },
  {
   "cell_type": "code",
   "execution_count": 14,
   "metadata": {},
   "outputs": [],
   "source": [
    "mesh = pygalmesh.generate_periodic_mesh(\n",
    "    Pore3D(),\n",
    "    [0,0,0,1.,0.68,1.],\n",
    "    max_cell_circumradius=0.05,\n",
    "    min_facet_angle=30,\n",
    "    max_radius_surface_delaunay_ball=0.05,\n",
    "    max_facet_distance=0.025,\n",
    "    max_circumradius_edge_ratio=2.0,\n",
    "    number_of_copies_in_output=1,\n",
    "    make_periodic=True,\n",
    "    # odt=True,\n",
    "    # lloyd=True,\n",
    "    verbose=False,\n",
    "    )"
   ]
  },
  {
   "cell_type": "code",
   "execution_count": 15,
   "metadata": {},
   "outputs": [
    {
     "output_type": "display_data",
     "data": {
      "text/plain": "Viewer(geometries=[{'vtkClass': 'vtkPolyData', 'points': {'vtkClass': 'vtkPoints', 'name': '_points', 'numberO…",
      "application/vnd.jupyter.widget-view+json": {
       "version_major": 2,
       "version_minor": 0,
       "model_id": "c5eea230b56a450c913307fa91b228ff"
      }
     },
     "metadata": {}
    },
    {
     "output_type": "display_data",
     "data": {
      "text/plain": "Viewer(geometries=[{'vtkClass': 'vtkPolyData', 'points': {'vtkClass': 'vtkPoints', 'name': '_points', 'numberO…",
      "application/vnd.jupyter.widget-view+json": {
       "version_major": 2,
       "version_minor": 0,
       "model_id": "c5eea230b56a450c913307fa91b228ff"
      }
     },
     "metadata": {}
    }
   ],
   "source": [
    "import pyvista as pv\n",
    "pv.plot_itk(mesh)"
   ]
  },
  {
   "cell_type": "code",
   "execution_count": null,
   "metadata": {},
   "outputs": [],
   "source": []
  }
 ],
 "metadata": {
  "kernelspec": {
   "display_name": "Python 3",
   "language": "python",
   "name": "python3"
  },
  "language_info": {
   "codemirror_mode": {
    "name": "ipython",
    "version": 3
   },
   "file_extension": ".py",
   "mimetype": "text/x-python",
   "name": "python",
   "nbconvert_exporter": "python",
   "pygments_lexer": "ipython3",
   "version": "3.8.5-final"
  }
 },
 "nbformat": 4,
 "nbformat_minor": 4
}