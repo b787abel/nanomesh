{
 "cells": [
  {
   "cell_type": "code",
   "execution_count": 5,
   "metadata": {},
   "outputs": [],
   "source": [
    "import numpy as np\n",
    "import pygalmesh\n",
    "import SimpleITK as sitk\n",
    "from nanomesh.utils import show_slice, show_volume, generate_mesh_from_binary_image\n",
    "from nanomesh.periodic_utils import insert_periodic_info\n",
    "\n",
    "class Square(pygalmesh.DomainBase):\n",
    "    def __init__(self):\n",
    "        super().__init__()\n",
    "        \n",
    "        self.npts = 51\n",
    "        self.size = 1\n",
    "        self.x = np.linspace(0,self.size,self.npts)\n",
    "        self.data = np.zeros((self.npts,self.npts,self.npts))\n",
    "        \n",
    "        \n",
    "        idx1 = (self.x<0.25*self.size) \n",
    "        idx2 = (self.x>0.75*self.size)\n",
    "        all_idx = list(range(self.npts))\n",
    "        self.data[np.ix_(idx1,idx1,all_idx)] = 1.\n",
    "        self.data[np.ix_(idx2,idx2,all_idx)] = 1.\n",
    "        self.data[np.ix_(idx1,idx2,all_idx)] = 1.\n",
    "        self.data[np.ix_(idx2,idx1,all_idx)] = 1.\n",
    "        \n",
    "                    \n",
    "\n",
    "    def eval(self, x):\n",
    "        ix = np.argmin(np.abs(x[0]-self.x))\n",
    "        iy = np.argmin(np.abs(x[1]-self.x))\n",
    "        iz = np.argmin(np.abs(x[2]-self.x))\n",
    "        if self.data[ix,iy,iz] == 1:\n",
    "            return -1.\n",
    "        else:\n",
    "            return 0.\n"
   ]
  },
  {
   "cell_type": "code",
   "execution_count": 6,
   "metadata": {},
   "outputs": [
    {
     "output_type": "display_data",
     "data": {
      "text/plain": "interactive(children=(IntSlider(value=25, description='z', max=50), Output()), _dom_classes=('widget-interact'…",
      "application/vnd.jupyter.widget-view+json": {
       "version_major": 2,
       "version_minor": 0,
       "model_id": "111f8d820aaa4afd81a27ecebdada471"
      }
     },
     "metadata": {}
    }
   ],
   "source": [
    "square = Square()\n",
    "im = sitk.GetImageFromArray(square.data.astype('uint8'))\n",
    "show_slice(im, dim='z',scale=2)"
   ]
  },
  {
   "cell_type": "code",
   "execution_count": 7,
   "metadata": {},
   "outputs": [
    {
     "output_type": "execute_result",
     "data": {
      "text/plain": [
       "array([0.  , 0.02, 0.04, 0.06, 0.08, 0.1 , 0.12, 0.14, 0.16, 0.18, 0.2 ,\n",
       "       0.22, 0.24])"
      ]
     },
     "metadata": {},
     "execution_count": 7
    }
   ],
   "source": [
    "square.x[square.x < 0.25]"
   ]
  },
  {
   "cell_type": "code",
   "execution_count": 15,
   "metadata": {},
   "outputs": [
    {
     "output_type": "display_data",
     "data": {
      "text/plain": "Viewer(geometries=[{'vtkClass': 'vtkPolyData', 'points': {'vtkClass': 'vtkPoints', 'name': '_points', 'numberO…",
      "application/vnd.jupyter.widget-view+json": {
       "version_major": 2,
       "version_minor": 0,
       "model_id": "ace91388fecd4c4f9b230d95ecf55f16"
      }
     },
     "metadata": {}
    },
    {
     "output_type": "display_data",
     "data": {
      "text/plain": "Viewer(geometries=[{'vtkClass': 'vtkPolyData', 'points': {'vtkClass': 'vtkPoints', 'name': '_points', 'numberO…",
      "application/vnd.jupyter.widget-view+json": {
       "version_major": 2,
       "version_minor": 0,
       "model_id": "ace91388fecd4c4f9b230d95ecf55f16"
      }
     },
     "metadata": {}
    }
   ],
   "source": [
    "mesh = pygalmesh.generate_periodic_mesh(\n",
    "    Square(),\n",
    "    [0, 0, 0, 1, 1, 1],\n",
    "    max_cell_circumradius=0.05,\n",
    "    min_facet_angle=30,\n",
    "    max_radius_surface_delaunay_ball=0.05,\n",
    "    max_facet_distance=0.025,\n",
    "    max_circumradius_edge_ratio=2.0,\n",
    "    number_of_copies_in_output=4,\n",
    "    make_periodic=True,\n",
    "    # extra_feature_edges=[[[0.24,0.24,0.0],[0.24,0.24,1.]]],\n",
    "    extra_feature_edges=[[[0.01,0.01,1.],[0.10,0.24,1.],[0.24,0.24,1.],[0.24,0.01,1.]]],\n",
    "    max_edge_size_at_feature_edges=0.05,\n",
    "    # odt=True,\n",
    "    # lloyd=True,\n",
    "    verbose=False,\n",
    ")\n",
    "\n",
    "import pyvista as pv\n",
    "pv.plot_itk(mesh)"
   ]
  },
  {
   "cell_type": "code",
   "execution_count": 9,
   "metadata": {},
   "outputs": [
    {
     "output_type": "execute_result",
     "data": {
      "text/plain": [
       "<meshio mesh object>\n",
       "  Number of points: 35478\n",
       "  Number of cells:\n",
       "    triangle: 10544\n",
       "    tetra: 34952\n",
       "  Point data: medit:ref\n",
       "  Cell data: medit:ref"
      ]
     },
     "metadata": {},
     "execution_count": 9
    }
   ],
   "source": [
    "mesh"
   ]
  },
  {
   "cell_type": "code",
   "execution_count": 10,
   "metadata": {},
   "outputs": [
    {
     "output_type": "stream",
     "name": "stderr",
     "text": [
      "WARNING:root:Appending zeros to replace the missing physical tag data.\n",
      "WARNING:root:Appending zeros to replace the missing geometrical tag data.\n"
     ]
    }
   ],
   "source": [
    "import meshio\n",
    "meshio.write('cross_periodic.msh', mesh, file_format='gmsh22', binary=False)"
   ]
  },
  {
   "cell_type": "code",
   "execution_count": null,
   "metadata": {},
   "outputs": [],
   "source": []
  }
 ],
 "metadata": {
  "kernelspec": {
   "display_name": "Python 3",
   "language": "python",
   "name": "python3"
  },
  "language_info": {
   "codemirror_mode": {
    "name": "ipython",
    "version": 3
   },
   "file_extension": ".py",
   "mimetype": "text/x-python",
   "name": "python",
   "nbconvert_exporter": "python",
   "pygments_lexer": "ipython3",
   "version": "3.8.5-final"
  }
 },
 "nbformat": 4,
 "nbformat_minor": 4
}
