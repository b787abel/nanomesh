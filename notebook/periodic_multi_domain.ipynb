{
 "cells": [
  {
   "cell_type": "code",
<<<<<<< HEAD
   "execution_count": 3,
=======
   "execution_count": 1,
>>>>>>> 711e5d546e988e2d6863c889dd942c7b64dfd44c
   "metadata": {},
   "outputs": [
    {
     "data": {
      "application/vnd.jupyter.widget-view+json": {
<<<<<<< HEAD
       "model_id": "7f1e3f499bc44689899be9b1d9784b66",
=======
       "model_id": "89ab507038e14a6eb5aa5c4374039c5b",
>>>>>>> 711e5d546e988e2d6863c889dd942c7b64dfd44c
       "version_major": 2,
       "version_minor": 0
      },
      "text/plain": [
       "Viewer(geometries=[{'vtkClass': 'vtkPolyData', 'points': {'vtkClass': 'vtkPoints', 'name': '_points', 'numberO…"
      ]
     },
     "metadata": {},
     "output_type": "display_data"
    },
    {
     "data": {
      "application/vnd.jupyter.widget-view+json": {
<<<<<<< HEAD
       "model_id": "7f1e3f499bc44689899be9b1d9784b66",
=======
       "model_id": "89ab507038e14a6eb5aa5c4374039c5b",
>>>>>>> 711e5d546e988e2d6863c889dd942c7b64dfd44c
       "version_major": 2,
       "version_minor": 0
      },
      "text/plain": [
       "Viewer(geometries=[{'vtkClass': 'vtkPolyData', 'points': {'vtkClass': 'vtkPoints', 'name': '_points', 'numberO…"
      ]
     },
     "metadata": {},
     "output_type": "display_data"
    }
   ],
   "source": [
    "import numpy\n",
    "import pygalmesh\n",
<<<<<<< HEAD
    "from nanomesh.periodic_utils import insert_periodic_info\n",
=======
    "\n",
>>>>>>> 711e5d546e988e2d6863c889dd942c7b64dfd44c
    "\n",
    "class Schwarz(pygalmesh.DomainBase):\n",
    "    def __init__(self):\n",
    "        super().__init__()\n",
    "\n",
    "    def eval(self, x):\n",
    "        x2 = numpy.cos(x[0] * 2 * numpy.pi)\n",
    "        y2 = numpy.cos(x[1] * 2 * numpy.pi)\n",
    "        z2 = numpy.cos(x[2] * 2 * numpy.pi)\n",
    "        return x2 + y2 + z2\n",
    "    \n",
    "class Ball(pygalmesh.DomainBase):\n",
    "    def __init__(self):\n",
    "        super().__init__()\n",
    "        \n",
    "    def eval(self, x):\n",
    "        return numpy.linalg.norm(x-numpy.array([0.5]*3)) - 0.15\n",
    "\n",
    "\n",
    "\n",
    "mesh = pygalmesh.generate_periodic_mesh_multiple_domains(\n",
    "    [Schwarz(),Ball()],\n",
    "    [\"--\",\"-+\"],\n",
    "    [0, 0, 0, 1, 1, 1],\n",
    "    max_cell_circumradius=0.05,\n",
    "    min_facet_angle=30,\n",
    "    max_radius_surface_delaunay_ball=0.05,\n",
    "    max_facet_distance=0.025,\n",
    "    max_circumradius_edge_ratio=2.0,\n",
<<<<<<< HEAD
    "    number_of_copies_in_output=1,\n",
=======
    "    number_of_copies_in_output=4,\n",
>>>>>>> 711e5d546e988e2d6863c889dd942c7b64dfd44c
    "    # odt=True,\n",
    "    # lloyd=True,\n",
    "    verbose=False,\n",
    ")\n",
    "\n",
    "import pyvista as pv\n",
    "pv.plot_itk(mesh)"
   ]
  },
  {
   "cell_type": "code",
<<<<<<< HEAD
   "execution_count": 4,
   "metadata": {},
   "outputs": [],
   "source": [
    "mesh = insert_periodic_info(mesh, [0, 0, 0, 1, 1, 1])"
   ]
  },
  {
   "cell_type": "code",
   "execution_count": 5,
   "metadata": {},
   "outputs": [
    {
     "name": "stderr",
     "output_type": "stream",
     "text": [
      "WARNING:root:Appending zeros to replace the missing physical tag data.\n",
      "WARNING:root:Appending zeros to replace the missing geometrical tag data.\n"
     ]
    }
   ],
   "source": [
    "import meshio\n",
    "meshio.write('shwartz_ball_multi_domain_periodic.msh', mesh, file_format='gmsh22', binary=False)"
   ]
  },
  {
   "cell_type": "code",
=======
>>>>>>> 711e5d546e988e2d6863c889dd942c7b64dfd44c
   "execution_count": null,
   "metadata": {},
   "outputs": [],
   "source": []
  }
 ],
 "metadata": {
  "kernelspec": {
   "display_name": "Python 3",
   "language": "python",
   "name": "python3"
  },
  "language_info": {
   "codemirror_mode": {
    "name": "ipython",
    "version": 3
   },
   "file_extension": ".py",
   "mimetype": "text/x-python",
   "name": "python",
   "nbconvert_exporter": "python",
   "pygments_lexer": "ipython3",
   "version": "3.8.5"
  }
 },
 "nbformat": 4,
 "nbformat_minor": 4
}
