{
 "cells": [
  {
   "cell_type": "code",
   "execution_count": 1,
   "metadata": {},
   "outputs": [],
   "source": [
    "import numpy as np\n",
    "import pygalmesh\n",
    "import SimpleITK as sitk\n",
    "from nanomesh.utils import show_slice, show_volume, generate_mesh_from_binary_image\n",
    "from nanomesh.periodic_utils import insert_periodic_info\n",
    "\n",
    "class Cross(pygalmesh.DomainBase):\n",
    "    def __init__(self):\n",
    "        super().__init__()\n",
    "        \n",
    "        self.npts = 50\n",
    "        self.size = 1\n",
    "        self.x = np.linspace(0,self.size,self.npts)\n",
    "        self.data = np.zeros((self.npts,self.npts,self.npts))\n",
    "        \n",
    "        \n",
    "        idx = (self.x>0.25*self.size) & (self.x<0.75*self.size)\n",
    "        all_idx = list(range(self.npts))\n",
    "        self.data[np.ix_(idx,idx,all_idx)] = 1.\n",
    "        self.data[np.ix_(idx,all_idx,idx)] = 1.\n",
    "        self.data[np.ix_(all_idx,idx,idx)] = 1.\n",
    "                    \n",
    "\n",
    "    def eval(self, x):\n",
    "        ix = np.argmin(np.abs(x[0]-self.x))\n",
    "        iy = np.argmin(np.abs(x[1]-self.x))\n",
    "        iz = np.argmin(np.abs(x[2]-self.x))\n",
    "        if self.data[ix,iy,iz] == 1:\n",
    "            return -1.\n",
    "        else:\n",
    "            return 0.\n"
   ]
  },
  {
   "cell_type": "code",
   "execution_count": 3,
   "metadata": {},
   "outputs": [
    {
     "data": {
      "application/vnd.jupyter.widget-view+json": {
       "model_id": "973ef567989f42f78c687020ac491fd5",
       "version_major": 2,
       "version_minor": 0
      },
      "text/plain": [
       "Viewer(geometries=[{'vtkClass': 'vtkPolyData', 'points': {'vtkClass': 'vtkPoints', 'name': '_points', 'numberO…"
      ]
     },
     "metadata": {},
     "output_type": "display_data"
    },
    {
     "data": {
      "application/vnd.jupyter.widget-view+json": {
       "model_id": "973ef567989f42f78c687020ac491fd5",
       "version_major": 2,
       "version_minor": 0
      },
      "text/plain": [
       "Viewer(geometries=[{'vtkClass': 'vtkPolyData', 'points': {'vtkClass': 'vtkPoints', 'name': '_points', 'numberO…"
      ]
     },
     "metadata": {},
     "output_type": "display_data"
    }
   ],
   "source": [
    "mesh = pygalmesh.generate_periodic_mesh(\n",
    "    Cross(),\n",
    "    [0, 0, 0, 1, 1, 1],\n",
    "    max_cell_circumradius=0.05,\n",
    "    min_facet_angle=30,\n",
    "    max_radius_surface_delaunay_ball=0.05,\n",
    "    max_facet_distance=0.025,\n",
    "    max_circumradius_edge_ratio=2.0,\n",
    "    number_of_copies_in_output=4,\n",
    "    # odt=True,\n",
    "    # lloyd=True,\n",
    "    verbose=False,\n",
    ")\n",
    "\n",
    "import pyvista as pv\n",
    "pv.plot_itk(mesh)"
   ]
  },
  {
   "cell_type": "code",
   "execution_count": 3,
   "metadata": {},
   "outputs": [],
   "source": [
    "mesh = insert_periodic_info(mesh, [0, 0, 0, 1, 1, 1])"
   ]
  },
  {
   "cell_type": "code",
   "execution_count": 7,
   "metadata": {},
   "outputs": [
    {
     "name": "stderr",
     "output_type": "stream",
     "text": [
      "WARNING:root:Appending zeros to replace the missing physical tag data.\n",
      "WARNING:root:Appending zeros to replace the missing geometrical tag data.\n"
     ]
    }
   ],
   "source": [
    "import meshio\n",
    "meshio.write('cross_periodic.msh', mesh, file_format='gmsh22', binary=False)"
   ]
  },
  {
   "cell_type": "code",
   "execution_count": null,
   "metadata": {},
   "outputs": [],
   "source": []
  }
 ],
 "metadata": {
  "kernelspec": {
   "display_name": "Python 3",
   "language": "python",
   "name": "python3"
  },
  "language_info": {
   "codemirror_mode": {
    "name": "ipython",
    "version": 3
   },
   "file_extension": ".py",
   "mimetype": "text/x-python",
   "name": "python",
   "nbconvert_exporter": "python",
   "pygments_lexer": "ipython3",
   "version": "3.8.5"
  }
 },
 "nbformat": 4,
 "nbformat_minor": 4
}
