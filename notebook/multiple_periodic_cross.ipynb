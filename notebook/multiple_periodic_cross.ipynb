{
 "cells": [
  {
   "cell_type": "code",
   "execution_count": 2,
   "metadata": {},
   "outputs": [],
   "source": [
    "import numpy as np\n",
    "import pygalmesh\n",
    "import SimpleITK as sitk\n",
    "from nanomesh.utils import show_slice, show_volume, generate_mesh_from_binary_image\n",
    "\n",
    "class Cross_A(pygalmesh.DomainBase):\n",
    "    def __init__(self):\n",
    "        super().__init__()\n",
    "        \n",
    "        self.npts = 11\n",
    "        self.x = np.linspace(0,1,self.npts)\n",
    "        self.data = np.zeros((self.npts,self.npts,self.npts))\n",
    "        idx = (self.x>0.25) & (self.x<0.75)\n",
    "        all_idx = list(range(self.npts))\n",
    "        self.data[np.ix_(idx,idx,all_idx)] = 1.\n",
    "        self.data[np.ix_(idx,all_idx,idx)] = 1.\n",
    "        self.data[np.ix_(all_idx,idx,idx)] = 1.\n",
    "                    \n",
    "\n",
    "    def eval(self, x):\n",
    "        ix = np.argmin(np.abs(x[0]-self.x))\n",
    "        iy = np.argmin(np.abs(x[1]-self.x))\n",
    "        iz = np.argmin(np.abs(x[2]-self.x))\n",
    "        if self.data[ix,iy,iz] == 1:\n",
    "            return -1.\n",
    "        else:\n",
    "            return 1.\n",
    "        \n",
    "class Cross_B(pygalmesh.DomainBase):\n",
    "    def __init__(self):\n",
    "        super().__init__()\n",
    "        \n",
    "        self.npts = 11\n",
    "        self.x = np.linspace(0,1,self.npts)\n",
    "        self.data = np.ones((self.npts,self.npts,self.npts))\n",
    "        idx = (self.x>0.25) & (self.x<0.75)\n",
    "        all_idx = list(range(self.npts))\n",
    "        self.data[np.ix_(idx,idx,all_idx)] = 0.\n",
    "        self.data[np.ix_(idx,all_idx,idx)] = 0.\n",
    "        self.data[np.ix_(all_idx,idx,idx)] = 0.\n",
    "                    \n",
    "\n",
    "    def eval(self, x):\n",
    "        ix = np.argmin(np.abs(x[0]-self.x))\n",
    "        iy = np.argmin(np.abs(x[1]-self.x))\n",
    "        iz = np.argmin(np.abs(x[2]-self.x))\n",
    "        if self.data[ix,iy,iz] == 1:\n",
    "            return -1.\n",
    "        else:\n",
    "            return 1.\n",
    "        \n",
    "class FullCube(pygalmesh.DomainBase):\n",
    "    def __init__(self):\n",
    "        super().__init__()\n",
    "        \n",
    "        self.npts = 11\n",
    "        self.x = np.linspace(0,1,self.npts)\n",
    "        self.data = np.ones((self.npts,self.npts,self.npts))\n",
    "#         idx = (self.x>0.05) & (self.x<0.95)\n",
    "#         all_idx = list(range(self.npts))\n",
    "#         self.data[np.ix_(idx,idx,idx)] = 1.\n",
    "#         self.data[np.ix_(idx,idx,idx)] = 1.\n",
    "#         self.data[np.ix_(idx,idx,idx)] = 1.\n",
    "        \n",
    "    def eval(self, x):\n",
    "        ix = np.argmin(np.abs(x[0]-self.x))\n",
    "        iy = np.argmin(np.abs(x[1]-self.x))\n",
    "        iz = np.argmin(np.abs(x[2]-self.x))\n",
    "        if self.data[ix,iy,iz] == 1:\n",
    "            return -1.\n",
    "        else:\n",
    "            return 1.\n"
   ]
  },
  {
   "cell_type": "code",
   "execution_count": 3,
   "metadata": {},
   "outputs": [
    {
     "data": {
      "application/vnd.jupyter.widget-view+json": {
       "model_id": "14de35f42c224253a35344f5f8fe5cec",
       "version_major": 2,
       "version_minor": 0
      },
      "text/plain": [
       "Viewer(geometries=[{'vtkClass': 'vtkPolyData', 'points': {'vtkClass': 'vtkPoints', 'name': '_points', 'numberO…"
      ]
     },
     "metadata": {},
     "output_type": "display_data"
    },
    {
     "data": {
      "application/vnd.jupyter.widget-view+json": {
       "model_id": "14de35f42c224253a35344f5f8fe5cec",
       "version_major": 2,
       "version_minor": 0
      },
      "text/plain": [
       "Viewer(geometries=[{'vtkClass': 'vtkPolyData', 'points': {'vtkClass': 'vtkPoints', 'name': '_points', 'numberO…"
      ]
     },
     "metadata": {},
     "output_type": "display_data"
    }
   ],
   "source": [
    "mesh = pygalmesh.generate_periodic_mesh_multiple_domains(\n",
    "    [Cross_A(),FullCube()],\n",
    "    [\"--\",\"+-\"],\n",
    "    [0, 0, 0, 1, 1, 1],\n",
    "    max_cell_circumradius=0.05,\n",
    "    min_facet_angle=30,\n",
    "    max_radius_surface_delaunay_ball=0.05,\n",
    "    max_facet_distance=0.025,\n",
    "    max_circumradius_edge_ratio=2.0,\n",
    "    number_of_copies_in_output=4,\n",
    "    outfile='periodic.mesh',\n",
    "    # odt=True,\n",
    "    # lloyd=True,\n",
    "    verbose=False,\n",
    ")\n",
    "\n",
    "import pyvista as pv\n",
    "pv.plot_itk(mesh)"
   ]
  },
  {
   "cell_type": "code",
   "execution_count": 5,
   "metadata": {},
   "outputs": [
    {
     "name": "stderr",
     "output_type": "stream",
     "text": [
      "WARNING:root:Appending zeros to replace the missing physical tag data.\n",
      "WARNING:root:Appending zeros to replace the missing geometrical tag data.\n"
     ]
    }
   ],
   "source": [
    "import meshio\n",
    "meshio.write('multi_domain_periodic.msh', mesh, file_format='gmsh22', binary=False)"
   ]
  },
  {
   "cell_type": "code",
   "execution_count": 4,
   "metadata": {},
   "outputs": [
    {
     "name": "stderr",
     "output_type": "stream",
     "text": [
      "WARNING:root:Binary Gmsh needs c_size_t (got int64). Converting.\n",
      "WARNING:root:Binary Gmsh needs c_size_t (got int64). Converting.\n"
     ]
    },
    {
     "ename": "WriteError",
     "evalue": "Specify entity information to deal with more than one cell type",
     "output_type": "error",
     "traceback": [
      "\u001b[0;31m---------------------------------------------------------------------------\u001b[0m",
      "\u001b[0;31mWriteError\u001b[0m                                Traceback (most recent call last)",
      "\u001b[0;32m<ipython-input-4-7b858ea9c6f6>\u001b[0m in \u001b[0;36m<module>\u001b[0;34m\u001b[0m\n\u001b[1;32m      1\u001b[0m \u001b[0;32mimport\u001b[0m \u001b[0mmeshio\u001b[0m\u001b[0;34m\u001b[0m\u001b[0;34m\u001b[0m\u001b[0m\n\u001b[0;32m----> 2\u001b[0;31m \u001b[0mmeshio\u001b[0m\u001b[0;34m.\u001b[0m\u001b[0mwrite\u001b[0m\u001b[0;34m(\u001b[0m\u001b[0;34m'multi_domain_periodic.msh'\u001b[0m\u001b[0;34m,\u001b[0m \u001b[0mmesh\u001b[0m\u001b[0;34m)\u001b[0m\u001b[0;34m\u001b[0m\u001b[0;34m\u001b[0m\u001b[0m\n\u001b[0m",
      "\u001b[0;32m~/anaconda3/lib/python3.8/site-packages/meshio/_helpers.py\u001b[0m in \u001b[0;36mwrite\u001b[0;34m(filename, mesh, file_format, **kwargs)\u001b[0m\n\u001b[1;32m    145\u001b[0m \u001b[0;34m\u001b[0m\u001b[0m\n\u001b[1;32m    146\u001b[0m     \u001b[0;31m# Write\u001b[0m\u001b[0;34m\u001b[0m\u001b[0;34m\u001b[0m\u001b[0;34m\u001b[0m\u001b[0m\n\u001b[0;32m--> 147\u001b[0;31m     \u001b[0;32mreturn\u001b[0m \u001b[0mwriter\u001b[0m\u001b[0;34m(\u001b[0m\u001b[0mfilename\u001b[0m\u001b[0;34m,\u001b[0m \u001b[0mmesh\u001b[0m\u001b[0;34m,\u001b[0m \u001b[0;34m**\u001b[0m\u001b[0mkwargs\u001b[0m\u001b[0;34m)\u001b[0m\u001b[0;34m\u001b[0m\u001b[0;34m\u001b[0m\u001b[0m\n\u001b[0m",
      "\u001b[0;32m~/anaconda3/lib/python3.8/site-packages/meshio/gmsh/main.py\u001b[0m in \u001b[0;36m<lambda>\u001b[0;34m(f, m, **kwargs)\u001b[0m\n\u001b[1;32m    109\u001b[0m     {\n\u001b[1;32m    110\u001b[0m         \u001b[0;34m\"gmsh22\"\u001b[0m\u001b[0;34m:\u001b[0m \u001b[0;32mlambda\u001b[0m \u001b[0mf\u001b[0m\u001b[0;34m,\u001b[0m \u001b[0mm\u001b[0m\u001b[0;34m,\u001b[0m \u001b[0;34m**\u001b[0m\u001b[0mkwargs\u001b[0m\u001b[0;34m:\u001b[0m \u001b[0mwrite\u001b[0m\u001b[0;34m(\u001b[0m\u001b[0mf\u001b[0m\u001b[0;34m,\u001b[0m \u001b[0mm\u001b[0m\u001b[0;34m,\u001b[0m \u001b[0;34m\"2.2\"\u001b[0m\u001b[0;34m,\u001b[0m \u001b[0;34m**\u001b[0m\u001b[0mkwargs\u001b[0m\u001b[0;34m)\u001b[0m\u001b[0;34m,\u001b[0m\u001b[0;34m\u001b[0m\u001b[0;34m\u001b[0m\u001b[0m\n\u001b[0;32m--> 111\u001b[0;31m         \u001b[0;34m\"gmsh\"\u001b[0m\u001b[0;34m:\u001b[0m \u001b[0;32mlambda\u001b[0m \u001b[0mf\u001b[0m\u001b[0;34m,\u001b[0m \u001b[0mm\u001b[0m\u001b[0;34m,\u001b[0m \u001b[0;34m**\u001b[0m\u001b[0mkwargs\u001b[0m\u001b[0;34m:\u001b[0m \u001b[0mwrite\u001b[0m\u001b[0;34m(\u001b[0m\u001b[0mf\u001b[0m\u001b[0;34m,\u001b[0m \u001b[0mm\u001b[0m\u001b[0;34m,\u001b[0m \u001b[0;34m\"4.1\"\u001b[0m\u001b[0;34m,\u001b[0m \u001b[0;34m**\u001b[0m\u001b[0mkwargs\u001b[0m\u001b[0;34m)\u001b[0m\u001b[0;34m,\u001b[0m\u001b[0;34m\u001b[0m\u001b[0;34m\u001b[0m\u001b[0m\n\u001b[0m\u001b[1;32m    112\u001b[0m     },\n\u001b[1;32m    113\u001b[0m )\n",
      "\u001b[0;32m~/anaconda3/lib/python3.8/site-packages/meshio/gmsh/main.py\u001b[0m in \u001b[0;36mwrite\u001b[0;34m(filename, mesh, fmt_version, binary, float_fmt)\u001b[0m\n\u001b[1;32m    100\u001b[0m             )\n\u001b[1;32m    101\u001b[0m \u001b[0;34m\u001b[0m\u001b[0m\n\u001b[0;32m--> 102\u001b[0;31m     \u001b[0mwriter\u001b[0m\u001b[0;34m.\u001b[0m\u001b[0mwrite\u001b[0m\u001b[0;34m(\u001b[0m\u001b[0mfilename\u001b[0m\u001b[0;34m,\u001b[0m \u001b[0mmesh\u001b[0m\u001b[0;34m,\u001b[0m \u001b[0mbinary\u001b[0m\u001b[0;34m=\u001b[0m\u001b[0mbinary\u001b[0m\u001b[0;34m,\u001b[0m \u001b[0mfloat_fmt\u001b[0m\u001b[0;34m=\u001b[0m\u001b[0mfloat_fmt\u001b[0m\u001b[0;34m)\u001b[0m\u001b[0;34m\u001b[0m\u001b[0;34m\u001b[0m\u001b[0m\n\u001b[0m\u001b[1;32m    103\u001b[0m \u001b[0;34m\u001b[0m\u001b[0m\n\u001b[1;32m    104\u001b[0m \u001b[0;34m\u001b[0m\u001b[0m\n",
      "\u001b[0;32m~/anaconda3/lib/python3.8/site-packages/meshio/gmsh/_gmsh41.py\u001b[0m in \u001b[0;36mwrite\u001b[0;34m(filename, mesh, float_fmt, binary)\u001b[0m\n\u001b[1;32m    356\u001b[0m \u001b[0;34m\u001b[0m\u001b[0m\n\u001b[1;32m    357\u001b[0m         \u001b[0m_write_entities\u001b[0m\u001b[0;34m(\u001b[0m\u001b[0mfh\u001b[0m\u001b[0;34m,\u001b[0m \u001b[0mcells\u001b[0m\u001b[0;34m,\u001b[0m \u001b[0mtag_data\u001b[0m\u001b[0;34m,\u001b[0m \u001b[0mmesh\u001b[0m\u001b[0;34m.\u001b[0m\u001b[0mcell_sets\u001b[0m\u001b[0;34m,\u001b[0m \u001b[0mmesh\u001b[0m\u001b[0;34m.\u001b[0m\u001b[0mpoint_data\u001b[0m\u001b[0;34m,\u001b[0m \u001b[0mbinary\u001b[0m\u001b[0;34m)\u001b[0m\u001b[0;34m\u001b[0m\u001b[0;34m\u001b[0m\u001b[0m\n\u001b[0;32m--> 358\u001b[0;31m         \u001b[0m_write_nodes\u001b[0m\u001b[0;34m(\u001b[0m\u001b[0mfh\u001b[0m\u001b[0;34m,\u001b[0m \u001b[0mmesh\u001b[0m\u001b[0;34m.\u001b[0m\u001b[0mpoints\u001b[0m\u001b[0;34m,\u001b[0m \u001b[0mmesh\u001b[0m\u001b[0;34m.\u001b[0m\u001b[0mcells\u001b[0m\u001b[0;34m,\u001b[0m \u001b[0mmesh\u001b[0m\u001b[0;34m.\u001b[0m\u001b[0mpoint_data\u001b[0m\u001b[0;34m,\u001b[0m \u001b[0mfloat_fmt\u001b[0m\u001b[0;34m,\u001b[0m \u001b[0mbinary\u001b[0m\u001b[0;34m)\u001b[0m\u001b[0;34m\u001b[0m\u001b[0;34m\u001b[0m\u001b[0m\n\u001b[0m\u001b[1;32m    359\u001b[0m         \u001b[0m_write_elements\u001b[0m\u001b[0;34m(\u001b[0m\u001b[0mfh\u001b[0m\u001b[0;34m,\u001b[0m \u001b[0mcells\u001b[0m\u001b[0;34m,\u001b[0m \u001b[0mtag_data\u001b[0m\u001b[0;34m,\u001b[0m \u001b[0mbinary\u001b[0m\u001b[0;34m)\u001b[0m\u001b[0;34m\u001b[0m\u001b[0;34m\u001b[0m\u001b[0m\n\u001b[1;32m    360\u001b[0m         \u001b[0;32mif\u001b[0m \u001b[0mmesh\u001b[0m\u001b[0;34m.\u001b[0m\u001b[0mgmsh_periodic\u001b[0m \u001b[0;32mis\u001b[0m \u001b[0;32mnot\u001b[0m \u001b[0;32mNone\u001b[0m\u001b[0;34m:\u001b[0m\u001b[0;34m\u001b[0m\u001b[0;34m\u001b[0m\u001b[0m\n",
      "\u001b[0;32m~/anaconda3/lib/python3.8/site-packages/meshio/gmsh/_gmsh41.py\u001b[0m in \u001b[0;36m_write_nodes\u001b[0;34m(fh, points, cells, point_data, float_fmt, binary)\u001b[0m\n\u001b[1;32m    608\u001b[0m         \u001b[0;31m# type\u001b[0m\u001b[0;34m\u001b[0m\u001b[0;34m\u001b[0m\u001b[0;34m\u001b[0m\u001b[0m\n\u001b[1;32m    609\u001b[0m         \u001b[0;32mif\u001b[0m \u001b[0mlen\u001b[0m\u001b[0;34m(\u001b[0m\u001b[0mcells\u001b[0m\u001b[0;34m)\u001b[0m \u001b[0;34m!=\u001b[0m \u001b[0;36m1\u001b[0m\u001b[0;34m:\u001b[0m\u001b[0;34m\u001b[0m\u001b[0;34m\u001b[0m\u001b[0m\n\u001b[0;32m--> 610\u001b[0;31m             raise WriteError(\n\u001b[0m\u001b[1;32m    611\u001b[0m                 \u001b[0;34m\"Specify entity information to deal with more than one cell type\"\u001b[0m\u001b[0;34m\u001b[0m\u001b[0;34m\u001b[0m\u001b[0m\n\u001b[1;32m    612\u001b[0m             )\n",
      "\u001b[0;31mWriteError\u001b[0m: Specify entity information to deal with more than one cell type"
     ]
    }
   ],
   "source": [
    "import meshio\n",
    "meshio.write('multi_domain_periodic.msh', mesh)"
   ]
  },
  {
   "cell_type": "code",
   "execution_count": null,
   "metadata": {},
   "outputs": [],
   "source": []
  }
 ],
 "metadata": {
  "kernelspec": {
   "display_name": "Python 3",
   "language": "python",
   "name": "python3"
  },
  "language_info": {
   "codemirror_mode": {
    "name": "ipython",
    "version": 3
   },
   "file_extension": ".py",
   "mimetype": "text/x-python",
   "name": "python",
   "nbconvert_exporter": "python",
   "pygments_lexer": "ipython3",
   "version": "3.8.5"
  }
 },
 "nbformat": 4,
 "nbformat_minor": 4
}
