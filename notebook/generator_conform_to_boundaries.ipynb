{
 "cells": [
  {
   "cell_type": "code",
   "execution_count": 1,
   "metadata": {},
   "outputs": [],
   "source": [
    "from nanomesh.generator import Generator\n",
    "import SimpleITK as sitk\n",
    "from nanomesh.utils import show_slice, show_volume, generate_mesh_from_binary_image\n",
    "import numpy as np\n",
    "import math"
   ]
  },
  {
   "cell_type": "code",
   "execution_count": 2,
   "metadata": {},
   "outputs": [
    {
     "data": {
      "application/vnd.jupyter.widget-view+json": {
       "model_id": "6d5c8c497b8343de98cf819d9230e02e",
       "version_major": 2,
       "version_minor": 0
      },
      "text/plain": [
       "interactive(children=(IntSlider(value=49, description='z', max=99), Output()), _dom_classes=('widget-interact'…"
      ]
     },
     "metadata": {},
     "output_type": "display_data"
    }
   ],
   "source": [
    "gen = Generator(680, 680*math.sqrt(2), 0.24*680)\n",
    "\n",
    "# Possible rotation/transformation of the coordinate system\n",
    "theta = math.pi * 1/180\n",
    "c = math.cos(theta)\n",
    "s = math.sin(theta)\n",
    "trans = np.array([\n",
    "    [ c, 0, s],\n",
    "    [ 0, 1, 0],\n",
    "    [-s, 0, c]\n",
    "])\n",
    "\n",
    "vol = gen.generate_vect([100]*3, [10]*3, transform=trans, bin_val=[0.,1.])\n",
    "\n",
    "# Convert to ITK image\n",
    "\n",
    "im = sitk.GetImageFromArray(vol.astype('uint8'))\n",
    "show_slice(im, dim='z',scale=2)"
   ]
  },
  {
   "cell_type": "code",
   "execution_count": 5,
   "metadata": {},
   "outputs": [
    {
     "data": {
      "application/vnd.jupyter.widget-view+json": {
       "model_id": "6a0f1a1d40d141c688c49780346944d8",
       "version_major": 2,
       "version_minor": 0
      },
      "text/plain": [
       "interactive(children=(IntSlider(value=49, description='z', max=99), Output()), _dom_classes=('widget-interact'…"
      ]
     },
     "metadata": {},
     "output_type": "display_data"
    }
   ],
   "source": [
    "im = sitk.GetImageFromArray(vol[:,:68,:].astype('uint8'))\n",
    "show_slice(im, dim='z',scale=2)"
   ]
  },
  {
   "cell_type": "code",
   "execution_count": 6,
   "metadata": {},
   "outputs": [
    {
     "data": {
      "application/vnd.jupyter.widget-view+json": {
       "model_id": "915cadc7fcae44628534dc0d10556e1e",
       "version_major": 2,
       "version_minor": 0
      },
      "text/plain": [
       "Viewer(geometries=[{'vtkClass': 'vtkPolyData', 'points': {'vtkClass': 'vtkPoints', 'name': '_points', 'numberO…"
      ]
     },
     "metadata": {},
     "output_type": "display_data"
    },
    {
     "data": {
      "application/vnd.jupyter.widget-view+json": {
       "model_id": "915cadc7fcae44628534dc0d10556e1e",
       "version_major": 2,
       "version_minor": 0
      },
      "text/plain": [
       "Viewer(geometries=[{'vtkClass': 'vtkPolyData', 'points': {'vtkClass': 'vtkPoints', 'name': '_points', 'numberO…"
      ]
     },
     "metadata": {},
     "output_type": "display_data"
    }
   ],
   "source": [
    "import pygalmesh\n",
    "mesh = generate_mesh_from_binary_image(im, h=[2.5]*3, perturb=False, \n",
    "                                       lloyd=False,\n",
    "                                       odt=False,\n",
    "                                       max_radius_surface_delaunay_ball=0.0,\n",
    "                                       max_cell_circumradius=0.,\n",
    "                                       max_facet_distance=1.,\n",
    "                                       exude=True,\n",
    "                                       min_facet_angle=0.,\n",
    "                                       max_edge_size_at_feature_edges=1.5,\n",
    "                                       max_circumradius_edge_ratio=0.,\n",
    "                                       bounding_box=True)\n",
    "import pyvista as pv\n",
    "pv.plot_itk(mesh)"
   ]
  },
  {
   "cell_type": "code",
   "execution_count": 7,
   "metadata": {},
   "outputs": [
    {
     "data": {
      "text/plain": [
       "13011"
      ]
     },
     "execution_count": 7,
     "metadata": {},
     "output_type": "execute_result"
    }
   ],
   "source": [
    "len(mesh.points)"
   ]
  },
  {
   "cell_type": "code",
   "execution_count": 8,
   "metadata": {},
   "outputs": [],
   "source": [
    "import pygalmesh\n",
    "class Implicit3D(pygalmesh.DomainBase):\n",
    "    def __init__(self):\n",
    "        super().__init__()\n",
    "        \n",
    "        self.gen = Generator(680, math.sqrt(2)*680, 0.24*680)\n",
    "\n",
    "        # Possible rotation/transformation of the coordinate system\n",
    "        theta = math.pi * 1/180\n",
    "        c = math.cos(theta)\n",
    "        s = math.sin(theta)\n",
    "        trans = np.array([\n",
    "            [ c, 0, s],\n",
    "            [ 0, 1, 0],\n",
    "            [-s, 0, c]\n",
    "        ])\n",
    "        \n",
    "        self.size = [100]*3\n",
    "        self.res = [10]*3\n",
    "        self.data = self.gen.generate(self.size, self.res, transform=trans, bin_val=[0.,1.])\n",
    "        self.data = self.data[:,:68,:]\n",
    "        \n",
    "        \n",
    "        self.x = np.linspace(0,1.,self.size[0])\n",
    "        self.y = np.linspace(0,1.,68)\n",
    "        self.z = np.linspace(0,1.,self.size[2])\n",
    "        \n",
    "    def eval(self, x):\n",
    "        ix = np.argmin(np.abs(x[0]-self.x))\n",
    "        iy = np.argmin(np.abs(x[1]-self.y))\n",
    "        iz = np.argmin(np.abs(x[2]-self.z))\n",
    "        if self.data[ix,iy,iz] == 1:\n",
    "            return -1.\n",
    "        else:\n",
    "            return 0.\n",
    "        \n",
    "mesh = pygalmesh.generate_periodic_mesh(\n",
    "    Implicit3D(),\n",
    "    [0,0,0,1.,1.,1.],\n",
    "    max_cell_circumradius=0.05,\n",
    "    min_facet_angle=30,\n",
    "    max_radius_surface_delaunay_ball=0.05,\n",
    "    max_facet_distance=0.025,\n",
    "    max_circumradius_edge_ratio=2.0,\n",
    "    number_of_copies_in_output=1,\n",
    "    # odt=True,\n",
    "    # lloyd=True,\n",
    "    verbose=False,\n",
    "    )"
   ]
  },
  {
   "cell_type": "code",
   "execution_count": 9,
   "metadata": {},
   "outputs": [
    {
     "data": {
      "application/vnd.jupyter.widget-view+json": {
       "model_id": "d87b485f0e644743b7ddfad3f29ab575",
       "version_major": 2,
       "version_minor": 0
      },
      "text/plain": [
       "Viewer(geometries=[{'vtkClass': 'vtkPolyData', 'points': {'vtkClass': 'vtkPoints', 'name': '_points', 'numberO…"
      ]
     },
     "metadata": {},
     "output_type": "display_data"
    },
    {
     "data": {
      "application/vnd.jupyter.widget-view+json": {
       "model_id": "d87b485f0e644743b7ddfad3f29ab575",
       "version_major": 2,
       "version_minor": 0
      },
      "text/plain": [
       "Viewer(geometries=[{'vtkClass': 'vtkPolyData', 'points': {'vtkClass': 'vtkPoints', 'name': '_points', 'numberO…"
      ]
     },
     "metadata": {},
     "output_type": "display_data"
    }
   ],
   "source": [
    "import pyvista as pv\n",
    "pv.plot_itk(mesh)"
   ]
  },
  {
   "cell_type": "code",
   "execution_count": null,
   "metadata": {},
   "outputs": [],
   "source": []
  }
 ],
 "metadata": {
  "kernelspec": {
   "display_name": "Python 3",
   "language": "python",
   "name": "python3"
  },
  "language_info": {
   "codemirror_mode": {
    "name": "ipython",
    "version": 3
   },
   "file_extension": ".py",
   "mimetype": "text/x-python",
   "name": "python",
   "nbconvert_exporter": "python",
   "pygments_lexer": "ipython3",
   "version": "3.8.5"
  }
 },
 "nbformat": 4,
 "nbformat_minor": 4
}
