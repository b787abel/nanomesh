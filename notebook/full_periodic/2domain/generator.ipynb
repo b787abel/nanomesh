{
 "cells": [
  {
   "cell_type": "code",
   "execution_count": 1,
   "metadata": {},
   "outputs": [],
   "source": [
    "from nanomesh.generator import Generator\n",
    "import SimpleITK as sitk\n",
    "from nanomesh.utils import show_slice, show_volume, generate_mesh_from_binary_image\n",
    "import numpy as np\n",
    "import math\n",
    "import pygalmesh"
   ]
  },
  {
   "cell_type": "markdown",
   "metadata": {},
   "source": [
    "#### Create the ideal generator\n",
    "\n",
    "The actual dimension of the cells are 480nm x 680nm x 480 nm However we specify xdim=ydim=zdim because the perdiodic mesher can only handle cubic domains\n"
   ]
  },
  {
   "cell_type": "code",
   "execution_count": 2,
   "metadata": {},
   "outputs": [],
   "source": [
    "# dimension of the domain used by CGAL to mesh the data\n",
    "xdim = ydim = zdim = 0.48\n",
    "\n",
    "class Pore3D(pygalmesh.DomainBase):\n",
    "    def __init__(self):\n",
    "        super().__init__()\n",
    "        \n",
    "        self.gen = Generator(680, 480, 0.24*680)\n",
    "\n",
    "        # Possible rotation/transformation of the coordinate system\n",
    "        theta = 0.5 * math.pi \n",
    "        c = math.cos(theta)\n",
    "        s = math.sin(theta)\n",
    "        trans = np.array([\n",
    "            [ c, 0, s],\n",
    "            [ 0, 1, 0],\n",
    "            [-s, 0, c]\n",
    "        ])\n",
    "        \n",
    "        # number of voxel in each direction\n",
    "        self.size = [48,68,48]\n",
    "        \n",
    "        # size of the voxel (in nm)\n",
    "        self.res = [10,10,10]\n",
    "        \n",
    "        # generate the datacube\n",
    "        self.data = self.gen.generate_vect(self.size, \n",
    "                                           self.res, \n",
    "                                           transform=trans, \n",
    "                                           bin_val=[0.,1.])\n",
    "\n",
    "                \n",
    "        # size used during the meshing by the orcale\n",
    "        # must be a perfect cube\n",
    "        self.x = np.linspace(0,xdim,self.data.shape[0])\n",
    "        self.y = np.linspace(0,ydim,self.data.shape[1])\n",
    "        self.z = np.linspace(0,zdim,self.data.shape[2])\n",
    "        \n",
    "        \n",
    "    def eval(self, x):\n",
    "        \"\"\"Orale function used during the meshing.\"\"\"\n",
    "\n",
    "        # get the indices\n",
    "        ix = np.digitize(x[0] % xdim,self.x)-1\n",
    "        iy = np.digitize(x[1] % ydim,self.y)-1\n",
    "        iz = np.digitize(x[2] % zdim,self.z)-1\n",
    "        \n",
    "        # evaluate the data cube\n",
    "        if self.data[ix,iy,iz] == 0:\n",
    "            out = -1.\n",
    "        else:\n",
    "            out = 1.\n",
    "        return out\n",
    "    "
   ]
  },
  {
   "cell_type": "code",
   "execution_count": 3,
   "metadata": {},
   "outputs": [
    {
     "data": {
      "application/vnd.jupyter.widget-view+json": {
       "model_id": "8ce176a6b5624f30803be83470f573f5",
       "version_major": 2,
       "version_minor": 0
      },
      "text/plain": [
       "interactive(children=(IntSlider(value=23, description='z', max=47), Output()), _dom_classes=('widget-interact'…"
      ]
     },
     "metadata": {},
     "output_type": "display_data"
    }
   ],
   "source": [
    "pore = Pore3D()\n",
    "im = sitk.GetImageFromArray(pore.data.astype('uint8'))\n",
    "show_slice(im, dim='z',scale=2)"
   ]
  },
  {
   "cell_type": "markdown",
   "metadata": {},
   "source": [
    "### Instantiate the pore and visualize a section of the dat"
   ]
  },
  {
   "cell_type": "code",
   "execution_count": 5,
   "metadata": {},
   "outputs": [],
   "source": [
    "class FullCube(pygalmesh.DomainBase):\n",
    "    \n",
    "    def __init__(self):\n",
    "        super().__init__()\n",
    "\n",
    "    def eval(self,x):\n",
    "        return -1"
   ]
  },
  {
   "cell_type": "code",
   "execution_count": 9,
   "metadata": {},
   "outputs": [],
   "source": [
    "mesh = pygalmesh.generate_periodic_mesh_multiple_domains(\n",
    "    [Pore3D(),FullCube()],\n",
    "    [\"--\",\"+-\"],\n",
    "    [0,0,0,xdim,ydim,zdim],\n",
    "    max_cell_circumradius=0.025,\n",
    "    min_facet_angle=30,\n",
    "    max_radius_surface_delaunay_ball=0.025,\n",
    "    max_facet_distance=0.025,\n",
    "    max_circumradius_edge_ratio=2.0,\n",
    "    number_of_copies_in_output=1,\n",
    "    exude=False,\n",
    "    perturb=False,\n",
    "    odt=False,\n",
    "    lloyd=False,\n",
    "    verbose=True\n",
    "    )"
   ]
  },
  {
   "cell_type": "code",
   "execution_count": 8,
   "metadata": {},
   "outputs": [
    {
     "data": {
      "application/vnd.jupyter.widget-view+json": {
       "model_id": "a9c433195c3e44eda4398e63144d1571",
       "version_major": 2,
       "version_minor": 0
      },
      "text/plain": [
       "Viewer(geometries=[{'vtkClass': 'vtkPolyData', 'points': {'vtkClass': 'vtkPoints', 'name': '_points', 'numberO…"
      ]
     },
     "metadata": {},
     "output_type": "display_data"
    },
    {
     "data": {
      "application/vnd.jupyter.widget-view+json": {
       "model_id": "a9c433195c3e44eda4398e63144d1571",
       "version_major": 2,
       "version_minor": 0
      },
      "text/plain": [
       "Viewer(geometries=[{'vtkClass': 'vtkPolyData', 'points': {'vtkClass': 'vtkPoints', 'name': '_points', 'numberO…"
      ]
     },
     "metadata": {},
     "output_type": "display_data"
    }
   ],
   "source": [
    "import pyvista as pv\n",
    "pv.plot_itk(mesh)"
   ]
  },
  {
   "cell_type": "code",
   "execution_count": 7,
   "metadata": {},
   "outputs": [],
   "source": [
    "from nanomesh.periodic_utils import insert_periodic_info\n",
    "mesh = insert_periodic_info(mesh, [0,0,0,1.,0.68,1.])"
   ]
  },
  {
   "cell_type": "code",
   "execution_count": 8,
   "metadata": {},
   "outputs": [
    {
     "name": "stderr",
     "output_type": "stream",
     "text": [
      "WARNING:root:Appending zeros to replace the missing physical tag data.\n",
      "WARNING:root:Appending zeros to replace the missing geometrical tag data.\n"
     ]
    }
   ],
   "source": [
    "mesh.write('nanopt_full_period_2domain_all_connections.gmsh', file_format=\"gmsh22\", binary=False)"
   ]
  },
  {
   "cell_type": "code",
   "execution_count": null,
   "metadata": {},
   "outputs": [],
   "source": []
  }
 ],
 "metadata": {
  "kernelspec": {
   "display_name": "Python 3",
   "language": "python",
   "name": "python3"
  },
  "language_info": {
   "codemirror_mode": {
    "name": "ipython",
    "version": 3
   },
   "file_extension": ".py",
   "mimetype": "text/x-python",
   "name": "python",
   "nbconvert_exporter": "python",
   "pygments_lexer": "ipython3",
   "version": "3.8.5"
  }
 },
 "nbformat": 4,
 "nbformat_minor": 4
}
