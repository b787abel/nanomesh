{
 "cells": [
  {
   "cell_type": "code",
   "execution_count": 1,
   "metadata": {},
   "outputs": [],
   "source": [
    "from nanomesh.generator import Generator\n",
    "import SimpleITK as sitk\n",
    "from nanomesh.utils import show_slice, show_volume, generate_mesh_from_binary_image\n",
    "import numpy as np\n",
    "import math\n",
    "import pygalmesh"
   ]
  },
  {
   "cell_type": "code",
   "execution_count": 2,
   "metadata": {},
   "outputs": [],
   "source": [
    "\n",
    "class Pore3D(pygalmesh.DomainBase):\n",
    "    def __init__(self):\n",
    "        super().__init__()\n",
    "        \n",
    "        self.gen = Generator(680, math.sqrt(2)*680, 0.24*680)\n",
    "\n",
    "        # Possible rotation/transformation of the coordinate system\n",
    "        theta = math.pi * 1/180\n",
    "        c = math.cos(theta)\n",
    "        s = math.sin(theta)\n",
    "        trans = np.array([\n",
    "            [ c, 0, s],\n",
    "            [ 0, 1, 0],\n",
    "            [-s, 0, c]\n",
    "        ])\n",
    "        \n",
    "        self.size = [100]*3\n",
    "        self.res = [10]*3\n",
    "        self.data = self.gen.generate_vect(self.size, \n",
    "                                           self.res, \n",
    "                                           transform=trans, \n",
    "                                           bin_val=[0.,1.])\n",
    "        self.data = self.data[:,:68,:]\n",
    "                \n",
    "        self.x = np.linspace(0,1.,self.data.shape[0])\n",
    "        self.y = np.linspace(0,0.68,self.data.shape[1])\n",
    "        self.z = np.linspace(0,1.,self.data.shape[2])\n",
    "        \n",
    "    def eval(self, x):\n",
    "        ix = np.argmin(np.abs(x[0]-self.x))\n",
    "        iy = np.argmin(np.abs(x[1]-self.y))\n",
    "        iz = np.argmin(np.abs(x[2]-self.z))\n",
    "        if self.data[ix,iy,iz] == 1:\n",
    "            out = -1.\n",
    "        else:\n",
    "            out = 1.\n",
    "        return out\n",
    "    "
   ]
  },
  {
   "cell_type": "code",
   "execution_count": 3,
   "metadata": {},
   "outputs": [
    {
     "output_type": "display_data",
     "data": {
      "text/plain": "interactive(children=(IntSlider(value=49, description='z', max=99), Output()), _dom_classes=('widget-interact'…",
      "application/vnd.jupyter.widget-view+json": {
       "version_major": 2,
       "version_minor": 0,
       "model_id": "4f303a2f6a4843919255b7bf3eeba52a"
      }
     },
     "metadata": {}
    }
   ],
   "source": [
    "pore = Pore3D()\n",
    "im = sitk.GetImageFromArray(pore.data.astype('uint8'))\n",
    "show_slice(im, dim='z',scale=2)"
   ]
  },
  {
   "cell_type": "code",
   "execution_count": 4,
   "metadata": {},
   "outputs": [],
   "source": [
    "class FullCube(pygalmesh.DomainBase):\n",
    "    \n",
    "    def __init__(self):\n",
    "        super().__init__()\n",
    "\n",
    "    def eval(self,x):\n",
    "        return -1"
   ]
  },
  {
   "cell_type": "code",
   "execution_count": 6,
   "metadata": {},
   "outputs": [],
   "source": [
    "mesh = pygalmesh.generate_periodic_mesh_multiple_domains(\n",
    "    [Pore3D(),FullCube()],\n",
    "    [\"--\",\"+-\"],\n",
    "    [0,0,0,1.,0.68,1.],\n",
    "    max_cell_circumradius=0.05,\n",
    "    min_facet_angle=30,\n",
    "    max_radius_surface_delaunay_ball=0.05,\n",
    "    max_facet_distance=0.025,\n",
    "    max_circumradius_edge_ratio=2.0,\n",
    "    number_of_copies_in_output=1,\n",
    "    # odt=True,\n",
    "    # lloyd=True,\n",
    "    verbose=False,\n",
    "    )"
   ]
  },
  {
   "cell_type": "code",
   "execution_count": 7,
   "metadata": {},
   "outputs": [
    {
     "output_type": "display_data",
     "data": {
      "text/plain": "Viewer(geometries=[{'vtkClass': 'vtkPolyData', 'points': {'vtkClass': 'vtkPoints', 'name': '_points', 'numberO…",
      "application/vnd.jupyter.widget-view+json": {
       "version_major": 2,
       "version_minor": 0,
       "model_id": "bd98a85223c84028b2f09b122c23ce1f"
      }
     },
     "metadata": {}
    },
    {
     "output_type": "display_data",
     "data": {
      "text/plain": "Viewer(geometries=[{'vtkClass': 'vtkPolyData', 'points': {'vtkClass': 'vtkPoints', 'name': '_points', 'numberO…",
      "application/vnd.jupyter.widget-view+json": {
       "version_major": 2,
       "version_minor": 0,
       "model_id": "bd98a85223c84028b2f09b122c23ce1f"
      }
     },
     "metadata": {}
    }
   ],
   "source": [
    "import pyvista as pv\n",
    "pv.plot_itk(mesh)"
   ]
  },
  {
   "cell_type": "code",
   "execution_count": 8,
   "metadata": {},
   "outputs": [],
   "source": [
    "from nanomesh.periodic_utils import insert_periodic_info\n",
    "mesh = insert_periodic_info(mesh, [0,0,0,1.,0.68,1.])"
   ]
  },
  {
   "cell_type": "code",
   "execution_count": 9,
   "metadata": {},
   "outputs": [
    {
     "output_type": "stream",
     "name": "stderr",
     "text": [
      "WARNING:root:Appending zeros to replace the missing physical tag data.\n",
      "WARNING:root:Appending zeros to replace the missing geometrical tag data.\n"
     ]
    }
   ],
   "source": [
    "mesh.write('nanopt_full_period_2domain.gmsh', file_format=\"gmsh22\", binary=False)"
   ]
  }
 ],
 "metadata": {
  "kernelspec": {
   "display_name": "Python 3",
   "language": "python",
   "name": "python3"
  },
  "language_info": {
   "codemirror_mode": {
    "name": "ipython",
    "version": 3
   },
   "file_extension": ".py",
   "mimetype": "text/x-python",
   "name": "python",
   "nbconvert_exporter": "python",
   "pygments_lexer": "ipython3",
   "version": "3.8.5-final"
  }
 },
 "nbformat": 4,
 "nbformat_minor": 4
}