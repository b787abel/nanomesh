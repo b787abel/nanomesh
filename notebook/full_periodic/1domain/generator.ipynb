{
 "cells": [
  {
   "cell_type": "code",
   "execution_count": 8,
   "metadata": {},
   "outputs": [],
   "source": [
    "from nanomesh.generator import Generator\n",
    "import SimpleITK as sitk\n",
    "from nanomesh.utils import show_slice, show_volume, generate_mesh_from_binary_image\n",
    "import numpy as np\n",
    "import math\n",
    "import pygalmesh"
   ]
  },
  {
   "cell_type": "markdown",
   "metadata": {},
   "source": [
    "### Create the ideal generator \n",
    "The actual dimension of the cells are 480nm x 680nm x 480 nm\n",
    "However we specify xdim=ydim=zdim because the perdiodic mesher can only handle cubic domains"
   ]
  },
  {
   "cell_type": "code",
   "execution_count": 15,
   "metadata": {},
   "outputs": [],
   "source": [
    "# dimension of the domain used by CGAL to mesh the data\n",
    "xdim, ydim, zdim = [0.48]*3\n",
    "\n",
    "class Pore3D(pygalmesh.DomainBase):\n",
    "    def __init__(self):\n",
    "        super().__init__()\n",
    "        \n",
    "        # instantiate the genrator\n",
    "        self.gen = Generator(680, 480, 0.24*680)\n",
    "\n",
    "        # Possible rotation/transformation of the coordinate system\n",
    "        theta = 0.5 * math.pi\n",
    "        c = math.cos(theta)\n",
    "        s = math.sin(theta)\n",
    "        trans = np.array([\n",
    "            [ c, 0, s],\n",
    "            [ 0, 1, 0],\n",
    "            [-s, 0, c]\n",
    "        ])\n",
    "        \n",
    "        # numbre of voxel in each direction\n",
    "        self.size = [48,68,48]\n",
    "        \n",
    "        # size of the voxel (in nm)\n",
    "        self.res = [10,10,10]\n",
    "\n",
    "        # generate the data cube\n",
    "        self.data = self.gen.generate_vect(self.size, self.res, \n",
    "                                           transform=trans, bin_val=[0.,1.])\n",
    "        \n",
    "                \n",
    "        # size used during the meshing by the orcale\n",
    "        # must be a perfect cube\n",
    "        self.x = np.linspace(0,xdim,self.data.shape[0])\n",
    "        self.y = np.linspace(0,ydim,self.data.shape[1])\n",
    "        self.z = np.linspace(0,zdim,self.data.shape[2])\n",
    "        \n",
    "        \n",
    "    def eval(self, x):\n",
    "        \"\"\"Orale function used during the meshing.\"\"\"\n",
    "\n",
    "        # get the indices\n",
    "        ix = np.digitize(x[0] % xdim,self.x)-1\n",
    "        iy = np.digitize(x[1] % ydim,self.y)-1\n",
    "        iz = np.digitize(x[2] % zdim,self.z)-1\n",
    "        \n",
    "        # evaluate the data cube\n",
    "        if self.data[ix,iy,iz] == 0:\n",
    "            out = -1.\n",
    "        else:\n",
    "            out = 1.\n",
    "        return out\n"
   ]
  },
  {
   "cell_type": "markdown",
   "metadata": {},
   "source": [
    "### Instantiate the pore and visualize a section of the data"
   ]
  },
  {
   "cell_type": "code",
   "execution_count": 16,
   "metadata": {},
   "outputs": [
    {
     "data": {
      "application/vnd.jupyter.widget-view+json": {
       "model_id": "",
       "version_major": 2,
       "version_minor": 0
      },
      "text/plain": [
       "interactive(children=(IntSlider(value=23, description='z', max=47), Output()), _dom_classes=('widget-interact'…"
      ]
     },
     "metadata": {},
     "output_type": "display_data"
    }
   ],
   "source": [
    "pore = Pore3D()\n",
    "im = sitk.GetImageFromArray(pore.data.astype('uint8'))\n",
    "show_slice(im, dim='z',scale=2)"
   ]
  },
  {
   "cell_type": "markdown",
   "metadata": {},
   "source": [
    "### Mesh the data over a perfect cubic domain\n",
    "The resulting mesh will be deformed as our domain is not cubic"
   ]
  },
  {
   "cell_type": "code",
   "execution_count": 20,
   "metadata": {},
   "outputs": [],
   "source": [
    "# call pygalmesh\n",
    "mesh = pygalmesh.generate_periodic_mesh(\n",
    "    Pore3D(), \n",
    "    [0, 0, 0, xdim, ydim, zdim],\n",
    "    max_cell_circumradius=0.025,\n",
    "    min_facet_angle=30,\n",
    "    max_radius_surface_delaunay_ball=0.025,\n",
    "    max_facet_distance=0.025,\n",
    "    max_circumradius_edge_ratio=2,\n",
    "    number_of_copies_in_output=1,\n",
    "    make_periodic=True,\n",
    "    exude=False,\n",
    "    perturb=False,\n",
    "    odt=False,\n",
    "    lloyd=False,\n",
    "    verbose=True\n",
    "    )"
   ]
  },
  {
   "cell_type": "markdown",
   "metadata": {},
   "source": [
    "### Rescale the mesh to obtain the correct dimension  "
   ]
  },
  {
   "cell_type": "code",
   "execution_count": 21,
   "metadata": {},
   "outputs": [
    {
     "data": {
      "application/vnd.jupyter.widget-view+json": {
       "model_id": "b0a361a1caf943a9a5b3394fd02d5bb8",
       "version_major": 2,
       "version_minor": 0
      },
      "text/plain": [
       "Viewer(geometries=[{'vtkClass': 'vtkPolyData', 'points': {'vtkClass': 'vtkPoints', 'name': '_points', 'numberO…"
      ]
     },
     "metadata": {},
     "output_type": "display_data"
    },
    {
     "data": {
      "application/vnd.jupyter.widget-view+json": {
       "model_id": "b0a361a1caf943a9a5b3394fd02d5bb8",
       "version_major": 2,
       "version_minor": 0
      },
      "text/plain": [
       "Viewer(geometries=[{'vtkClass': 'vtkPolyData', 'points': {'vtkClass': 'vtkPoints', 'name': '_points', 'numberO…"
      ]
     },
     "metadata": {},
     "output_type": "display_data"
    }
   ],
   "source": [
    "mesh.points[:,1] *= 0.68/0.48\n",
    "pv.plot_itk(mesh)"
   ]
  },
  {
   "cell_type": "code",
   "execution_count": 22,
   "metadata": {},
   "outputs": [
    {
     "name": "stdout",
     "output_type": "stream",
     "text": [
      " Warning : No mapping point found at  1651 [0.32688212 0.6895454  0.24018206]\n",
      " Warning : No mapping point found at  1718 [0.17794603 0.6958275  0.21442561]\n",
      " Warning : No mapping point found at  1742 [0.18861906 0.6802275  0.00780258]\n",
      " Warning : No mapping point found at  1783 [0.3924165  0.13183108 0.4823489 ]\n",
      " Warning : No mapping point found at  1786 [0.17348638 0.00403204 0.48160073]\n",
      " Warning : No mapping point found at  1867 [1.8861906e-01 2.2755987e-04 4.8780257e-01]\n",
      " Warning : No mapping point found at  1907 [0.17348638 0.684032   0.48160073]\n",
      " Warning : No mapping point found at  1913 [0.18861906 0.6802275  0.48780257]\n"
     ]
    }
   ],
   "source": [
    "from nanomesh.periodic_utils import insert_periodic_info\n",
    "mesh = insert_periodic_info(mesh, [0,0,0,0.48,0.68,0.48])"
   ]
  },
  {
   "cell_type": "code",
   "execution_count": 23,
   "metadata": {},
   "outputs": [
    {
     "name": "stderr",
     "output_type": "stream",
     "text": [
      "WARNING:root:Appending zeros to replace the missing physical tag data.\n",
      "WARNING:root:Appending zeros to replace the missing geometrical tag data.\n"
     ]
    }
   ],
   "source": [
    "mesh.write('nanopt_full_period_1domain.gmsh', file_format=\"gmsh22\", binary=False)"
   ]
  }
 ],
 "metadata": {
  "kernelspec": {
   "display_name": "Python 3",
   "language": "python",
   "name": "python3"
  },
  "language_info": {
   "codemirror_mode": {
    "name": "ipython",
    "version": 3
   },
   "file_extension": ".py",
   "mimetype": "text/x-python",
   "name": "python",
   "nbconvert_exporter": "python",
   "pygments_lexer": "ipython3",
   "version": "3.8.5"
  }
 },
 "nbformat": 4,
 "nbformat_minor": 4
}
