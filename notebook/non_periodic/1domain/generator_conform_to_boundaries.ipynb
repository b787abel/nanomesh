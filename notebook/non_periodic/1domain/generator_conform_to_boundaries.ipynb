{
 "cells": [
  {
   "cell_type": "code",
   "execution_count": 1,
   "metadata": {},
   "outputs": [],
   "source": [
    "from nanomesh.generator import Generator\n",
    "import SimpleITK as sitk\n",
    "from nanomesh.utils import show_slice, show_volume, generate_mesh_from_binary_image\n",
    "import numpy as np\n",
    "import math"
   ]
  },
  {
   "cell_type": "code",
   "execution_count": 2,
   "metadata": {},
   "outputs": [
    {
     "output_type": "display_data",
     "data": {
      "text/plain": "interactive(children=(IntSlider(value=49, description='z', max=99), Output()), _dom_classes=('widget-interact'…",
      "application/vnd.jupyter.widget-view+json": {
       "version_major": 2,
       "version_minor": 0,
       "model_id": "0d195722c10f4867bbd8f31a623ef1b1"
      }
     },
     "metadata": {}
    }
   ],
   "source": [
    "gen = Generator(680, 680*math.sqrt(2), 0.24*680)\n",
    "\n",
    "# Possible rotation/transformation of the coordinate system\n",
    "theta = math.pi * 1/180\n",
    "c = math.cos(theta)\n",
    "s = math.sin(theta)\n",
    "trans = np.array([\n",
    "    [ c, 0, s],\n",
    "    [ 0, 1, 0],\n",
    "    [-s, 0, c]\n",
    "])\n",
    "\n",
    "vol = gen.generate_vect([100]*3, [10]*3, transform=trans, bin_val=[0.,1.])\n",
    "\n",
    "# Convert to ITK image\n",
    "\n",
    "im = sitk.GetImageFromArray(vol.astype('uint8'))\n",
    "show_slice(im, dim='z',scale=2)"
   ]
  },
  {
   "cell_type": "code",
   "execution_count": 3,
   "metadata": {},
   "outputs": [
    {
     "output_type": "display_data",
     "data": {
      "text/plain": "interactive(children=(IntSlider(value=49, description='z', max=99), Output()), _dom_classes=('widget-interact'…",
      "application/vnd.jupyter.widget-view+json": {
       "version_major": 2,
       "version_minor": 0,
       "model_id": "49cb83e9ed3449d2887f345817f61b90"
      }
     },
     "metadata": {}
    }
   ],
   "source": [
    "im = sitk.GetImageFromArray(vol[:,:68,:].astype('uint8'))\n",
    "show_slice(im, dim='z',scale=2)"
   ]
  },
  {
   "cell_type": "code",
   "execution_count": 4,
   "metadata": {},
   "outputs": [
    {
     "output_type": "display_data",
     "data": {
      "text/plain": "Viewer(geometries=[{'vtkClass': 'vtkPolyData', 'points': {'vtkClass': 'vtkPoints', 'name': '_points', 'numberO…",
      "application/vnd.jupyter.widget-view+json": {
       "version_major": 2,
       "version_minor": 0,
       "model_id": "301f4a9a9e6f4739848c3ab8b5404759"
      }
     },
     "metadata": {}
    },
    {
     "output_type": "display_data",
     "data": {
      "text/plain": "Viewer(geometries=[{'vtkClass': 'vtkPolyData', 'points': {'vtkClass': 'vtkPoints', 'name': '_points', 'numberO…",
      "application/vnd.jupyter.widget-view+json": {
       "version_major": 2,
       "version_minor": 0,
       "model_id": "301f4a9a9e6f4739848c3ab8b5404759"
      }
     },
     "metadata": {}
    }
   ],
   "source": [
    "import pygalmesh\n",
    "mesh = generate_mesh_from_binary_image(im, h=[1.]*3, perturb=False, \n",
    "                                       lloyd=False,\n",
    "                                       odt=False,\n",
    "                                       max_radius_surface_delaunay_ball=0.0,\n",
    "                                       max_cell_circumradius=0.,\n",
    "                                       max_facet_distance=1.,\n",
    "                                       exude=True,\n",
    "                                       min_facet_angle=0.,\n",
    "                                       max_edge_size_at_feature_edges=1.5,\n",
    "                                       max_circumradius_edge_ratio=0.,\n",
    "                                       bbox_feature=True)\n",
    "import pyvista as pv\n",
    "pv.plot_itk(mesh)"
   ]
  },
  {
   "cell_type": "code",
   "execution_count": 5,
   "metadata": {},
   "outputs": [
    {
     "output_type": "stream",
     "name": "stderr",
     "text": [
      "WARNING:root:Appending zeros to replace the missing physical tag data.\n",
      "WARNING:root:Appending zeros to replace the missing geometrical tag data.\n"
     ]
    }
   ],
   "source": [
    "mesh.write('nanopt_non_period_1domain.gmsh', file_format=\"gmsh22\", binary=False)"
   ]
  },
  {
   "cell_type": "code",
   "execution_count": null,
   "metadata": {},
   "outputs": [],
   "source": []
  }
 ],
 "metadata": {
  "kernelspec": {
   "display_name": "Python 3",
   "language": "python",
   "name": "python3"
  },
  "language_info": {
   "codemirror_mode": {
    "name": "ipython",
    "version": 3
   },
   "file_extension": ".py",
   "mimetype": "text/x-python",
   "name": "python",
   "nbconvert_exporter": "python",
   "pygments_lexer": "ipython3",
   "version": "3.8.5-final"
  }
 },
 "nbformat": 4,
 "nbformat_minor": 4
}
